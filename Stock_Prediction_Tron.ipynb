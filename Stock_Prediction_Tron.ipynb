{
 "cells": [
  {
   "cell_type": "code",
   "execution_count": 1,
   "id": "88f77772",
   "metadata": {},
   "outputs": [],
   "source": [
    "import numpy as np\n",
    "import pandas as pd\n",
    "import matplotlib.pyplot as plt\n",
    "from sklearn.preprocessing import MinMaxScaler\n",
    "plt.style.use('ggplot')\n",
    "import seaborn as sns\n",
    "from sklearn import metrics\n",
    "from sklearn.model_selection import train_test_split\n",
    "import yfinance as yf\n",
    "\n",
    "%matplotlib inline\n",
    "\n",
    "plt.style.use('fivethirtyeight')\n",
    "\n",
    "from keras.models import Sequential\n",
    "from keras.layers import LSTM, Dense, Dropout"
   ]
  },
  {
   "cell_type": "code",
   "execution_count": 2,
   "id": "28325bfb",
   "metadata": {},
   "outputs": [],
   "source": [
    "trx= yf.Ticker('TRX-USD')"
   ]
  },
  {
   "cell_type": "code",
   "execution_count": 5,
   "id": "9faec5db",
   "metadata": {},
   "outputs": [
    {
     "data": {
      "text/plain": [
       "{'companyOfficers': [],\n",
       " 'twitter': '\"https://twitter.com/justinsuntron\"',\n",
       " 'name': 'TRON',\n",
       " 'startDate': 1505260800,\n",
       " 'description': 'TRON (TRX) is a cryptocurrency . TRON has a current supply of 98,195,011,909.11476 with 98,195,013,797.12347 in circulation. The last known price of TRON is 0.0755166 USD and is down -2.65 over the last 24 hours. It is currently trading on 600 active market(s) with $2,153,982,514.56 traded over the last 24 hours. More information can be found at https://tron.network/.',\n",
       " 'maxAge': 1,\n",
       " 'exchange': 'CCC',\n",
       " 'shortName': 'TRON USD',\n",
       " 'exchangeTimezoneName': 'UTC',\n",
       " 'exchangeTimezoneShortName': 'UTC',\n",
       " 'isEsgPopulated': False,\n",
       " 'gmtOffSetMilliseconds': '0',\n",
       " 'quoteType': 'CRYPTOCURRENCY',\n",
       " 'symbol': 'TRX-USD',\n",
       " 'messageBoardId': 'finmb_TRX_CCC',\n",
       " 'market': 'ccc_market',\n",
       " 'previousClose': 0.076824225,\n",
       " 'regularMarketOpen': 0.076824225,\n",
       " 'twoHundredDayAverage': 0.07576448,\n",
       " 'trailingAnnualDividendYield': None,\n",
       " 'payoutRatio': None,\n",
       " 'volume24Hr': 2337032192,\n",
       " 'regularMarketDayHigh': 0.07972819,\n",
       " 'navPrice': None,\n",
       " 'averageDailyVolume10Day': 2443587112,\n",
       " 'totalAssets': None,\n",
       " 'regularMarketPreviousClose': 0.076824225,\n",
       " 'fiftyDayAverage': 0.06770614,\n",
       " 'trailingAnnualDividendRate': None,\n",
       " 'open': 0.076824225,\n",
       " 'toCurrency': 'USD=X',\n",
       " 'averageVolume10days': 2443587112,\n",
       " 'expireDate': None,\n",
       " 'yield': None,\n",
       " 'algorithm': None,\n",
       " 'dividendRate': None,\n",
       " 'exDividendDate': None,\n",
       " 'beta': None,\n",
       " 'circulatingSupply': 98193408000,\n",
       " 'regularMarketDayLow': 0.07210179,\n",
       " 'priceHint': 6,\n",
       " 'currency': 'USD',\n",
       " 'regularMarketVolume': 2337032192,\n",
       " 'lastMarket': 'CoinMarketCap',\n",
       " 'maxSupply': None,\n",
       " 'openInterest': None,\n",
       " 'marketCap': 7079920128,\n",
       " 'volumeAllCurrencies': 2337032192,\n",
       " 'strikePrice': None,\n",
       " 'averageVolume': 1197022422,\n",
       " 'priceToSalesTrailing12Months': None,\n",
       " 'dayLow': 0.07210179,\n",
       " 'ask': None,\n",
       " 'ytdReturn': None,\n",
       " 'askSize': None,\n",
       " 'volume': 2337032192,\n",
       " 'fiftyTwoWeekHigh': 0.14712,\n",
       " 'forwardPE': None,\n",
       " 'fromCurrency': 'TRX',\n",
       " 'fiveYearAvgDividendYield': None,\n",
       " 'fiftyTwoWeekLow': 0.046821,\n",
       " 'bid': None,\n",
       " 'tradeable': False,\n",
       " 'dividendYield': None,\n",
       " 'bidSize': None,\n",
       " 'dayHigh': 0.07972819,\n",
       " 'regularMarketPrice': 0.07210179,\n",
       " 'preMarketPrice': None,\n",
       " 'logo_url': ''}"
      ]
     },
     "execution_count": 5,
     "metadata": {},
     "output_type": "execute_result"
    }
   ],
   "source": [
    "trx.info"
   ]
  },
  {
   "cell_type": "code",
   "execution_count": 6,
   "id": "d39903c6",
   "metadata": {},
   "outputs": [
    {
     "data": {
      "text/html": [
       "<div>\n",
       "<style scoped>\n",
       "    .dataframe tbody tr th:only-of-type {\n",
       "        vertical-align: middle;\n",
       "    }\n",
       "\n",
       "    .dataframe tbody tr th {\n",
       "        vertical-align: top;\n",
       "    }\n",
       "\n",
       "    .dataframe thead th {\n",
       "        text-align: right;\n",
       "    }\n",
       "</style>\n",
       "<table border=\"1\" class=\"dataframe\">\n",
       "  <thead>\n",
       "    <tr style=\"text-align: right;\">\n",
       "      <th></th>\n",
       "      <th>Open</th>\n",
       "      <th>High</th>\n",
       "      <th>Low</th>\n",
       "      <th>Close</th>\n",
       "      <th>Volume</th>\n",
       "      <th>Dividends</th>\n",
       "      <th>Stock Splits</th>\n",
       "    </tr>\n",
       "    <tr>\n",
       "      <th>Date</th>\n",
       "      <th></th>\n",
       "      <th></th>\n",
       "      <th></th>\n",
       "      <th></th>\n",
       "      <th></th>\n",
       "      <th></th>\n",
       "      <th></th>\n",
       "    </tr>\n",
       "  </thead>\n",
       "  <tbody>\n",
       "    <tr>\n",
       "      <th>2017-11-09</th>\n",
       "      <td>0.002304</td>\n",
       "      <td>0.002438</td>\n",
       "      <td>0.002285</td>\n",
       "      <td>0.002344</td>\n",
       "      <td>2924350</td>\n",
       "      <td>0</td>\n",
       "      <td>0</td>\n",
       "    </tr>\n",
       "    <tr>\n",
       "      <th>2017-11-10</th>\n",
       "      <td>0.002335</td>\n",
       "      <td>0.002350</td>\n",
       "      <td>0.001989</td>\n",
       "      <td>0.002013</td>\n",
       "      <td>2193620</td>\n",
       "      <td>0</td>\n",
       "      <td>0</td>\n",
       "    </tr>\n",
       "    <tr>\n",
       "      <th>2017-11-11</th>\n",
       "      <td>0.002026</td>\n",
       "      <td>0.002298</td>\n",
       "      <td>0.001890</td>\n",
       "      <td>0.002003</td>\n",
       "      <td>1748460</td>\n",
       "      <td>0</td>\n",
       "      <td>0</td>\n",
       "    </tr>\n",
       "    <tr>\n",
       "      <th>2017-11-12</th>\n",
       "      <td>0.002006</td>\n",
       "      <td>0.002006</td>\n",
       "      <td>0.001684</td>\n",
       "      <td>0.001783</td>\n",
       "      <td>2174370</td>\n",
       "      <td>0</td>\n",
       "      <td>0</td>\n",
       "    </tr>\n",
       "    <tr>\n",
       "      <th>2017-11-13</th>\n",
       "      <td>0.001795</td>\n",
       "      <td>0.002146</td>\n",
       "      <td>0.001771</td>\n",
       "      <td>0.002112</td>\n",
       "      <td>2889150</td>\n",
       "      <td>0</td>\n",
       "      <td>0</td>\n",
       "    </tr>\n",
       "  </tbody>\n",
       "</table>\n",
       "</div>"
      ],
      "text/plain": [
       "                Open      High       Low     Close   Volume  Dividends  \\\n",
       "Date                                                                     \n",
       "2017-11-09  0.002304  0.002438  0.002285  0.002344  2924350          0   \n",
       "2017-11-10  0.002335  0.002350  0.001989  0.002013  2193620          0   \n",
       "2017-11-11  0.002026  0.002298  0.001890  0.002003  1748460          0   \n",
       "2017-11-12  0.002006  0.002006  0.001684  0.001783  2174370          0   \n",
       "2017-11-13  0.001795  0.002146  0.001771  0.002112  2889150          0   \n",
       "\n",
       "            Stock Splits  \n",
       "Date                      \n",
       "2017-11-09             0  \n",
       "2017-11-10             0  \n",
       "2017-11-11             0  \n",
       "2017-11-12             0  \n",
       "2017-11-13             0  "
      ]
     },
     "execution_count": 6,
     "metadata": {},
     "output_type": "execute_result"
    }
   ],
   "source": [
    "history = trx.history(period = 'Max')\n",
    "df = pd.DataFrame(history)\n",
    "df.head()"
   ]
  },
  {
   "cell_type": "code",
   "execution_count": 7,
   "id": "5f794733",
   "metadata": {},
   "outputs": [],
   "source": [
    "X = df.index\n",
    "y = df['Close']"
   ]
  },
  {
   "cell_type": "code",
   "execution_count": 8,
   "id": "eb7503e8",
   "metadata": {},
   "outputs": [],
   "source": [
    "def df_plot(data, x,y, title = '', xlabel = 'Date', ylabel = 'Value', dpi = 100):\n",
    "    plt.figure(figsize = (16,5), dpi = dpi)\n",
    "    plt.plot(x,y, color = 'tab:red')\n",
    "    plt.gca().set(title=title, xlabel = xlabel, ylabel=ylabel)\n",
    "    plt.show()"
   ]
  },
  {
   "cell_type": "code",
   "execution_count": 9,
   "id": "056bb9ad",
   "metadata": {},
   "outputs": [
    {
     "data": {
      "image/png": "[encoded data removed]",
      "text/plain": [
       "<Figure size 1600x500 with 1 Axes>"
      ]
     },
     "metadata": {},
     "output_type": "display_data"
    }
   ],
   "source": [
    "stock_name = 'TRX-USD'\n",
    "title = (stock_name, 'History stock performance till date')\n",
    "df_plot(df,X,y, title=title, xlabel = 'Date', ylabel = 'Value', dpi = 100)"
   ]
  },
  {
   "cell_type": "code",
   "execution_count": 10,
   "id": "1d3eda3d",
   "metadata": {},
   "outputs": [],
   "source": [
    "df.reset_index(inplace = True)"
   ]
  },
  {
   "cell_type": "code",
   "execution_count": 11,
   "id": "582c3869",
   "metadata": {},
   "outputs": [
    {
     "data": {
      "text/html": [
       "<div>\n",
       "<style scoped>\n",
       "    .dataframe tbody tr th:only-of-type {\n",
       "        vertical-align: middle;\n",
       "    }\n",
       "\n",
       "    .dataframe tbody tr th {\n",
       "        vertical-align: top;\n",
       "    }\n",
       "\n",
       "    .dataframe thead th {\n",
       "        text-align: right;\n",
       "    }\n",
       "</style>\n",
       "<table border=\"1\" class=\"dataframe\">\n",
       "  <thead>\n",
       "    <tr style=\"text-align: right;\">\n",
       "      <th></th>\n",
       "      <th>Date</th>\n",
       "      <th>Open</th>\n",
       "      <th>High</th>\n",
       "      <th>Low</th>\n",
       "      <th>Close</th>\n",
       "      <th>Volume</th>\n",
       "      <th>Dividends</th>\n",
       "      <th>Stock Splits</th>\n",
       "    </tr>\n",
       "  </thead>\n",
       "  <tbody>\n",
       "    <tr>\n",
       "      <th>0</th>\n",
       "      <td>2017-11-09</td>\n",
       "      <td>0.002304</td>\n",
       "      <td>0.002438</td>\n",
       "      <td>0.002285</td>\n",
       "      <td>0.002344</td>\n",
       "      <td>2924350</td>\n",
       "      <td>0</td>\n",
       "      <td>0</td>\n",
       "    </tr>\n",
       "    <tr>\n",
       "      <th>1</th>\n",
       "      <td>2017-11-10</td>\n",
       "      <td>0.002335</td>\n",
       "      <td>0.002350</td>\n",
       "      <td>0.001989</td>\n",
       "      <td>0.002013</td>\n",
       "      <td>2193620</td>\n",
       "      <td>0</td>\n",
       "      <td>0</td>\n",
       "    </tr>\n",
       "    <tr>\n",
       "      <th>2</th>\n",
       "      <td>2017-11-11</td>\n",
       "      <td>0.002026</td>\n",
       "      <td>0.002298</td>\n",
       "      <td>0.001890</td>\n",
       "      <td>0.002003</td>\n",
       "      <td>1748460</td>\n",
       "      <td>0</td>\n",
       "      <td>0</td>\n",
       "    </tr>\n",
       "    <tr>\n",
       "      <th>3</th>\n",
       "      <td>2017-11-12</td>\n",
       "      <td>0.002006</td>\n",
       "      <td>0.002006</td>\n",
       "      <td>0.001684</td>\n",
       "      <td>0.001783</td>\n",
       "      <td>2174370</td>\n",
       "      <td>0</td>\n",
       "      <td>0</td>\n",
       "    </tr>\n",
       "    <tr>\n",
       "      <th>4</th>\n",
       "      <td>2017-11-13</td>\n",
       "      <td>0.001795</td>\n",
       "      <td>0.002146</td>\n",
       "      <td>0.001771</td>\n",
       "      <td>0.002112</td>\n",
       "      <td>2889150</td>\n",
       "      <td>0</td>\n",
       "      <td>0</td>\n",
       "    </tr>\n",
       "  </tbody>\n",
       "</table>\n",
       "</div>"
      ],
      "text/plain": [
       "        Date      Open      High       Low     Close   Volume  Dividends  \\\n",
       "0 2017-11-09  0.002304  0.002438  0.002285  0.002344  2924350          0   \n",
       "1 2017-11-10  0.002335  0.002350  0.001989  0.002013  2193620          0   \n",
       "2 2017-11-11  0.002026  0.002298  0.001890  0.002003  1748460          0   \n",
       "3 2017-11-12  0.002006  0.002006  0.001684  0.001783  2174370          0   \n",
       "4 2017-11-13  0.001795  0.002146  0.001771  0.002112  2889150          0   \n",
       "\n",
       "   Stock Splits  \n",
       "0             0  \n",
       "1             0  \n",
       "2             0  \n",
       "3             0  \n",
       "4             0  "
      ]
     },
     "execution_count": 11,
     "metadata": {},
     "output_type": "execute_result"
    }
   ],
   "source": [
    "df.head()"
   ]
  },
  {
   "cell_type": "code",
   "execution_count": 21,
   "id": "49be0055",
   "metadata": {},
   "outputs": [],
   "source": [
    "df.drop(['Dividends','Stock Splits'], axis = 1, inplace = True)"
   ]
  },
  {
   "cell_type": "code",
   "execution_count": 28,
   "id": "1aeddbf2",
   "metadata": {},
   "outputs": [
    {
     "data": {
      "text/html": [
       "<div>\n",
       "<style scoped>\n",
       "    .dataframe tbody tr th:only-of-type {\n",
       "        vertical-align: middle;\n",
       "    }\n",
       "\n",
       "    .dataframe tbody tr th {\n",
       "        vertical-align: top;\n",
       "    }\n",
       "\n",
       "    .dataframe thead th {\n",
       "        text-align: right;\n",
       "    }\n",
       "</style>\n",
       "<table border=\"1\" class=\"dataframe\">\n",
       "  <thead>\n",
       "    <tr style=\"text-align: right;\">\n",
       "      <th></th>\n",
       "      <th>Date</th>\n",
       "      <th>Open</th>\n",
       "      <th>High</th>\n",
       "      <th>Low</th>\n",
       "      <th>Close</th>\n",
       "      <th>Volume</th>\n",
       "    </tr>\n",
       "  </thead>\n",
       "  <tbody>\n",
       "    <tr>\n",
       "      <th>0</th>\n",
       "      <td>2017-11-09</td>\n",
       "      <td>0.002304</td>\n",
       "      <td>0.002438</td>\n",
       "      <td>0.002285</td>\n",
       "      <td>0.002344</td>\n",
       "      <td>2924350</td>\n",
       "    </tr>\n",
       "    <tr>\n",
       "      <th>1</th>\n",
       "      <td>2017-11-10</td>\n",
       "      <td>0.002335</td>\n",
       "      <td>0.002350</td>\n",
       "      <td>0.001989</td>\n",
       "      <td>0.002013</td>\n",
       "      <td>2193620</td>\n",
       "    </tr>\n",
       "    <tr>\n",
       "      <th>2</th>\n",
       "      <td>2017-11-11</td>\n",
       "      <td>0.002026</td>\n",
       "      <td>0.002298</td>\n",
       "      <td>0.001890</td>\n",
       "      <td>0.002003</td>\n",
       "      <td>1748460</td>\n",
       "    </tr>\n",
       "    <tr>\n",
       "      <th>3</th>\n",
       "      <td>2017-11-12</td>\n",
       "      <td>0.002006</td>\n",
       "      <td>0.002006</td>\n",
       "      <td>0.001684</td>\n",
       "      <td>0.001783</td>\n",
       "      <td>2174370</td>\n",
       "    </tr>\n",
       "    <tr>\n",
       "      <th>4</th>\n",
       "      <td>2017-11-13</td>\n",
       "      <td>0.001795</td>\n",
       "      <td>0.002146</td>\n",
       "      <td>0.001771</td>\n",
       "      <td>0.002112</td>\n",
       "      <td>2889150</td>\n",
       "    </tr>\n",
       "  </tbody>\n",
       "</table>\n",
       "</div>"
      ],
      "text/plain": [
       "        Date      Open      High       Low     Close   Volume\n",
       "0 2017-11-09  0.002304  0.002438  0.002285  0.002344  2924350\n",
       "1 2017-11-10  0.002335  0.002350  0.001989  0.002013  2193620\n",
       "2 2017-11-11  0.002026  0.002298  0.001890  0.002003  1748460\n",
       "3 2017-11-12  0.002006  0.002006  0.001684  0.001783  2174370\n",
       "4 2017-11-13  0.001795  0.002146  0.001771  0.002112  2889150"
      ]
     },
     "execution_count": 28,
     "metadata": {},
     "output_type": "execute_result"
    }
   ],
   "source": [
    "df.head()"
   ]
  },
  {
   "cell_type": "code",
   "execution_count": 29,
   "id": "c91091bc",
   "metadata": {},
   "outputs": [
    {
     "data": {
      "text/html": [
       "<div>\n",
       "<style scoped>\n",
       "    .dataframe tbody tr th:only-of-type {\n",
       "        vertical-align: middle;\n",
       "    }\n",
       "\n",
       "    .dataframe tbody tr th {\n",
       "        vertical-align: top;\n",
       "    }\n",
       "\n",
       "    .dataframe thead th {\n",
       "        text-align: right;\n",
       "    }\n",
       "</style>\n",
       "<table border=\"1\" class=\"dataframe\">\n",
       "  <thead>\n",
       "    <tr style=\"text-align: right;\">\n",
       "      <th></th>\n",
       "      <th>Open</th>\n",
       "      <th>High</th>\n",
       "      <th>Low</th>\n",
       "      <th>Close</th>\n",
       "      <th>Volume</th>\n",
       "    </tr>\n",
       "  </thead>\n",
       "  <tbody>\n",
       "    <tr>\n",
       "      <th>count</th>\n",
       "      <td>1645.000000</td>\n",
       "      <td>1645.000000</td>\n",
       "      <td>1645.000000</td>\n",
       "      <td>1645.000000</td>\n",
       "      <td>1.645000e+03</td>\n",
       "    </tr>\n",
       "    <tr>\n",
       "      <th>mean</th>\n",
       "      <td>0.042234</td>\n",
       "      <td>0.044224</td>\n",
       "      <td>0.040185</td>\n",
       "      <td>0.042265</td>\n",
       "      <td>1.066898e+09</td>\n",
       "    </tr>\n",
       "    <tr>\n",
       "      <th>std</th>\n",
       "      <td>0.031243</td>\n",
       "      <td>0.033430</td>\n",
       "      <td>0.028979</td>\n",
       "      <td>0.031191</td>\n",
       "      <td>1.180469e+09</td>\n",
       "    </tr>\n",
       "    <tr>\n",
       "      <th>min</th>\n",
       "      <td>0.001795</td>\n",
       "      <td>0.002006</td>\n",
       "      <td>0.001684</td>\n",
       "      <td>0.001783</td>\n",
       "      <td>1.748460e+06</td>\n",
       "    </tr>\n",
       "    <tr>\n",
       "      <th>25%</th>\n",
       "      <td>0.019677</td>\n",
       "      <td>0.020283</td>\n",
       "      <td>0.019018</td>\n",
       "      <td>0.019677</td>\n",
       "      <td>3.171940e+08</td>\n",
       "    </tr>\n",
       "    <tr>\n",
       "      <th>50%</th>\n",
       "      <td>0.028856</td>\n",
       "      <td>0.030023</td>\n",
       "      <td>0.027490</td>\n",
       "      <td>0.028857</td>\n",
       "      <td>8.386029e+08</td>\n",
       "    </tr>\n",
       "    <tr>\n",
       "      <th>75%</th>\n",
       "      <td>0.061510</td>\n",
       "      <td>0.063396</td>\n",
       "      <td>0.059651</td>\n",
       "      <td>0.061601</td>\n",
       "      <td>1.368124e+09</td>\n",
       "    </tr>\n",
       "    <tr>\n",
       "      <th>max</th>\n",
       "      <td>0.224499</td>\n",
       "      <td>0.300363</td>\n",
       "      <td>0.176712</td>\n",
       "      <td>0.220555</td>\n",
       "      <td>1.397316e+10</td>\n",
       "    </tr>\n",
       "  </tbody>\n",
       "</table>\n",
       "</div>"
      ],
      "text/plain": [
       "              Open         High          Low        Close        Volume\n",
       "count  1645.000000  1645.000000  1645.000000  1645.000000  1.645000e+03\n",
       "mean      0.042234     0.044224     0.040185     0.042265  1.066898e+09\n",
       "std       0.031243     0.033430     0.028979     0.031191  1.180469e+09\n",
       "min       0.001795     0.002006     0.001684     0.001783  1.748460e+06\n",
       "25%       0.019677     0.020283     0.019018     0.019677  3.171940e+08\n",
       "50%       0.028856     0.030023     0.027490     0.028857  8.386029e+08\n",
       "75%       0.061510     0.063396     0.059651     0.061601  1.368124e+09\n",
       "max       0.224499     0.300363     0.176712     0.220555  1.397316e+10"
      ]
     },
     "execution_count": 29,
     "metadata": {},
     "output_type": "execute_result"
    }
   ],
   "source": [
    "df.describe()"
   ]
  },
  {
   "cell_type": "code",
   "execution_count": 23,
   "id": "3c9a6b29",
   "metadata": {},
   "outputs": [],
   "source": [
    "df['Date'] = pd.to_datetime(df.Date)"
   ]
  },
  {
   "cell_type": "code",
   "execution_count": 24,
   "id": "6f145e38",
   "metadata": {},
   "outputs": [
    {
     "name": "stdout",
     "output_type": "stream",
     "text": [
      "<class 'pandas.core.frame.DataFrame'>\n",
      "RangeIndex: 1645 entries, 0 to 1644\n",
      "Data columns (total 6 columns):\n",
      " #   Column  Non-Null Count  Dtype         \n",
      "---  ------  --------------  -----         \n",
      " 0   Date    1645 non-null   datetime64[ns]\n",
      " 1   Open    1645 non-null   float64       \n",
      " 2   High    1645 non-null   float64       \n",
      " 3   Low     1645 non-null   float64       \n",
      " 4   Close   1645 non-null   float64       \n",
      " 5   Volume  1645 non-null   int64         \n",
      "dtypes: datetime64[ns](1), float64(4), int64(1)\n",
      "memory usage: 77.2 KB\n"
     ]
    }
   ],
   "source": [
    "df.info()"
   ]
  },
  {
   "cell_type": "code",
   "execution_count": 25,
   "id": "11cc9822",
   "metadata": {},
   "outputs": [],
   "source": [
    "X = df[['Open','High','Low','Volume']]\n",
    "y = df['Close']"
   ]
  },
  {
   "cell_type": "code",
   "execution_count": 26,
   "id": "5d3d5ef4",
   "metadata": {},
   "outputs": [],
   "source": [
    "X_train, X_test, y_train, y_test = train_test_split(X, y, test_size=0.15, \n",
    "                                                    shuffle = False, random_state=0)"
   ]
  },
  {
   "cell_type": "code",
   "execution_count": 27,
   "id": "adc621bf",
   "metadata": {},
   "outputs": [],
   "source": [
    "from sklearn.linear_model import LinearRegression\n",
    "from sklearn.metrics import confusion_matrix, accuracy_score"
   ]
  },
  {
   "cell_type": "code",
   "execution_count": 31,
   "id": "cb318d77",
   "metadata": {},
   "outputs": [
    {
     "name": "stdout",
     "output_type": "stream",
     "text": [
      "regression coefficient [-4.48081176e-01  7.54342772e-01  6.90212843e-01  8.54689646e-15]\n",
      "regression intercept 8.835583568851668e-05\n"
     ]
    }
   ],
   "source": [
    "regression = LinearRegression()\n",
    "regression.fit(X_train,y_train)\n",
    "\n",
    "print('regression coefficient', regression.coef_)\n",
    "print('regression intercept', regression.intercept_)"
   ]
  },
  {
   "cell_type": "code",
   "execution_count": 33,
   "id": "431f48bd",
   "metadata": {},
   "outputs": [
    {
     "name": "stdout",
     "output_type": "stream",
     "text": [
      "linear regression cofidence:  0.9922431839308076\n"
     ]
    }
   ],
   "source": [
    "regression_confidence = regression.score(X_test,y_test)\n",
    "print('linear regression cofidence: ', regression_confidence)"
   ]
  },
  {
   "cell_type": "code",
   "execution_count": 34,
   "id": "6917038b",
   "metadata": {},
   "outputs": [
    {
     "name": "stdout",
     "output_type": "stream",
     "text": [
      "          Open      High       Low      Volume\n",
      "1398  0.103745  0.105824  0.078055  2481055300\n",
      "1399  0.085329  0.096633  0.083678  3850532893\n",
      "1400  0.091050  0.094479  0.090413  1691771918\n",
      "1401  0.093033  0.095774  0.086624  1973955943\n",
      "1402  0.090829  0.097010  0.090579  2021046580\n"
     ]
    }
   ],
   "source": [
    "predicted = regression.predict(X_test)\n",
    "print(X_test.head())"
   ]
  },
  {
   "cell_type": "code",
   "execution_count": 35,
   "id": "a3d9d4d2",
   "metadata": {},
   "outputs": [
    {
     "data": {
      "text/html": [
       "<div>\n",
       "<style scoped>\n",
       "    .dataframe tbody tr th:only-of-type {\n",
       "        vertical-align: middle;\n",
       "    }\n",
       "\n",
       "    .dataframe tbody tr th {\n",
       "        vertical-align: top;\n",
       "    }\n",
       "\n",
       "    .dataframe thead th {\n",
       "        text-align: right;\n",
       "    }\n",
       "</style>\n",
       "<table border=\"1\" class=\"dataframe\">\n",
       "  <thead>\n",
       "    <tr style=\"text-align: right;\">\n",
       "      <th></th>\n",
       "      <th>Actual_Price</th>\n",
       "      <th>Predicted_Price</th>\n",
       "    </tr>\n",
       "  </thead>\n",
       "  <tbody>\n",
       "    <tr>\n",
       "      <th>1398</th>\n",
       "      <td>0.085275</td>\n",
       "      <td>0.087326</td>\n",
       "    </tr>\n",
       "    <tr>\n",
       "      <th>1399</th>\n",
       "      <td>0.092797</td>\n",
       "      <td>0.092537</td>\n",
       "    </tr>\n",
       "    <tr>\n",
       "      <th>1400</th>\n",
       "      <td>0.093024</td>\n",
       "      <td>0.092979</td>\n",
       "    </tr>\n",
       "    <tr>\n",
       "      <th>1401</th>\n",
       "      <td>0.090873</td>\n",
       "      <td>0.090454</td>\n",
       "    </tr>\n",
       "    <tr>\n",
       "      <th>1402</th>\n",
       "      <td>0.095400</td>\n",
       "      <td>0.095104</td>\n",
       "    </tr>\n",
       "  </tbody>\n",
       "</table>\n",
       "</div>"
      ],
      "text/plain": [
       "      Actual_Price  Predicted_Price\n",
       "1398      0.085275         0.087326\n",
       "1399      0.092797         0.092537\n",
       "1400      0.093024         0.092979\n",
       "1401      0.090873         0.090454\n",
       "1402      0.095400         0.095104"
      ]
     },
     "execution_count": 35,
     "metadata": {},
     "output_type": "execute_result"
    }
   ],
   "source": [
    "dfr = pd.DataFrame({'Actual_Price': y_test,'Predicted_Price': predicted})\n",
    "dfr.head()"
   ]
  },
  {
   "cell_type": "code",
   "execution_count": 36,
   "id": "b77f7897",
   "metadata": {},
   "outputs": [
    {
     "data": {
      "text/html": [
       "<div>\n",
       "<style scoped>\n",
       "    .dataframe tbody tr th:only-of-type {\n",
       "        vertical-align: middle;\n",
       "    }\n",
       "\n",
       "    .dataframe tbody tr th {\n",
       "        vertical-align: top;\n",
       "    }\n",
       "\n",
       "    .dataframe thead th {\n",
       "        text-align: right;\n",
       "    }\n",
       "</style>\n",
       "<table border=\"1\" class=\"dataframe\">\n",
       "  <thead>\n",
       "    <tr style=\"text-align: right;\">\n",
       "      <th></th>\n",
       "      <th>Actual_Price</th>\n",
       "      <th>Predicted_Price</th>\n",
       "    </tr>\n",
       "  </thead>\n",
       "  <tbody>\n",
       "    <tr>\n",
       "      <th>count</th>\n",
       "      <td>247.000000</td>\n",
       "      <td>247.000000</td>\n",
       "    </tr>\n",
       "    <tr>\n",
       "      <th>mean</th>\n",
       "      <td>0.079703</td>\n",
       "      <td>0.079735</td>\n",
       "    </tr>\n",
       "    <tr>\n",
       "      <th>std</th>\n",
       "      <td>0.017552</td>\n",
       "      <td>0.017535</td>\n",
       "    </tr>\n",
       "    <tr>\n",
       "      <th>min</th>\n",
       "      <td>0.055043</td>\n",
       "      <td>0.053207</td>\n",
       "    </tr>\n",
       "    <tr>\n",
       "      <th>25%</th>\n",
       "      <td>0.063388</td>\n",
       "      <td>0.063370</td>\n",
       "    </tr>\n",
       "    <tr>\n",
       "      <th>50%</th>\n",
       "      <td>0.076200</td>\n",
       "      <td>0.076913</td>\n",
       "    </tr>\n",
       "    <tr>\n",
       "      <th>75%</th>\n",
       "      <td>0.095518</td>\n",
       "      <td>0.095450</td>\n",
       "    </tr>\n",
       "    <tr>\n",
       "      <th>max</th>\n",
       "      <td>0.123602</td>\n",
       "      <td>0.124977</td>\n",
       "    </tr>\n",
       "  </tbody>\n",
       "</table>\n",
       "</div>"
      ],
      "text/plain": [
       "       Actual_Price  Predicted_Price\n",
       "count    247.000000       247.000000\n",
       "mean       0.079703         0.079735\n",
       "std        0.017552         0.017535\n",
       "min        0.055043         0.053207\n",
       "25%        0.063388         0.063370\n",
       "50%        0.076200         0.076913\n",
       "75%        0.095518         0.095450\n",
       "max        0.123602         0.124977"
      ]
     },
     "execution_count": 36,
     "metadata": {},
     "output_type": "execute_result"
    }
   ],
   "source": [
    "dfr.describe()"
   ]
  },
  {
   "cell_type": "code",
   "execution_count": 38,
   "id": "781e1781",
   "metadata": {},
   "outputs": [
    {
     "name": "stdout",
     "output_type": "stream",
     "text": [
      "Mean Absolute Error (MAE):  0.001124802248945533\n",
      "Mean Squared Error (MSE):  2.3799847653285766e-06\n",
      "Root Mean Squared Error (RMSE):  0.0015427199244608778\n"
     ]
    }
   ],
   "source": [
    "print('Mean Absolute Error (MAE): ', metrics.mean_absolute_error(y_test, predicted))\n",
    "print('Mean Squared Error (MSE): ', metrics.mean_squared_error(y_test,predicted))\n",
    "print('Root Mean Squared Error (RMSE): ', np.sqrt(metrics.mean_squared_error(y_test,\n",
    "                                                                             predicted)))\n"
   ]
  },
  {
   "cell_type": "code",
   "execution_count": 40,
   "id": "d59a306e",
   "metadata": {},
   "outputs": [
    {
     "name": "stdout",
     "output_type": "stream",
     "text": [
      "The Accuracy of the model is:  99.95991376809901\n"
     ]
    }
   ],
   "source": [
    "x2 = dfr.Actual_Price.mean()\n",
    "y2 = dfr.Predicted_Price.mean()\n",
    "accuracy1 = x2/y2 * 100\n",
    "\n",
    "print('The Accuracy of the model is: ', accuracy1)"
   ]
  },
  {
   "cell_type": "code",
   "execution_count": 41,
   "id": "c3ae108c",
   "metadata": {},
   "outputs": [
    {
     "data": {
      "image/png": "[encoded data removed]",
      "text/plain": [
       "<Figure size 432x288 with 1 Axes>"
      ]
     },
     "metadata": {},
     "output_type": "display_data"
    }
   ],
   "source": [
    "plt.scatter(dfr.Actual_Price, dfr.Predicted_Price, color = 'Darkblue')\n",
    "plt.xlabel('Actual Price')\n",
    "plt.ylabel('Predicted Price')\n",
    "\n",
    "plt.show()"
   ]
  },
  {
   "cell_type": "code",
   "execution_count": 42,
   "id": "61c251eb",
   "metadata": {},
   "outputs": [
    {
     "name": "stderr",
     "output_type": "stream",
     "text": [
      "No handles with labels found to put in legend.\n"
     ]
    },
    {
     "data": {
      "text/plain": [
       "<matplotlib.legend.Legend at 0x220cf774f10>"
      ]
     },
     "execution_count": 42,
     "metadata": {},
     "output_type": "execute_result"
    },
    {
     "data": {
      "image/png": "[encoded data removed]",
      "text/plain": [
       "<Figure size 432x288 with 1 Axes>"
      ]
     },
     "metadata": {},
     "output_type": "display_data"
    }
   ],
   "source": [
    "plt.plot(dfr.Actual_Price, color = 'black')\n",
    "plt.plot(dfr.Predicted_Price, color = 'lightblue')\n",
    "plt.title('TRX Prediction Chart')\n",
    "plt.legend()"
   ]
  },
  {
   "cell_type": "code",
   "execution_count": null,
   "id": "581d30d5",
   "metadata": {},
   "outputs": [],
   "source": []
  }
 ],
 "metadata": {
  "kernelspec": {
   "display_name": "Python 3 (ipykernel)",
   "language": "python",
   "name": "python3"
  },
  "language_info": {
   "codemirror_mode": {
    "name": "ipython",
    "version": 3
   },
   "file_extension": ".py",
   "mimetype": "text/x-python",
   "name": "python",
   "nbconvert_exporter": "python",
   "pygments_lexer": "ipython3",
   "version": "3.9.7"
  }
 },
 "nbformat": 4,
 "nbformat_minor": 5
}
